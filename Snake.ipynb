{
 "cells": [
  {
   "cell_type": "code",
   "execution_count": 1,
   "metadata": {},
   "outputs": [],
   "source": [
    "import sys\n",
    "import snake"
   ]
  },
  {
   "cell_type": "code",
   "execution_count": 2,
   "metadata": {},
   "outputs": [],
   "source": [
    "snake.Game.WIDTH = 30\n",
    "snake.Game.HEIGHT = 20"
   ]
  },
  {
   "cell_type": "code",
   "execution_count": 3,
   "metadata": {},
   "outputs": [],
   "source": [
    "search = snake.Search()"
   ]
  },
  {
   "cell_type": "code",
   "execution_count": null,
   "metadata": {},
   "outputs": [
    {
     "data": {
      "application/vnd.jupyter.widget-view+json": {
       "model_id": "11533726187f4f8a93ffd417d29d72d3",
       "version_major": 2,
       "version_minor": 0
      },
      "text/plain": [
       "HBox(children=(FloatProgress(value=0.0, max=100000.0), HTML(value='')))"
      ]
     },
     "metadata": {},
     "output_type": "display_data"
    }
   ],
   "source": [
    "search.search_n(100000)"
   ]
  },
  {
   "cell_type": "code",
   "execution_count": 6,
   "metadata": {},
   "outputs": [
    {
     "data": {
      "text/html": [
       "\n",
       "            <img src=\"pngs/a621407b-5a7e-46e9-9727-a1b6a906c147.png\">\n",
       "            <img src=\"gifs/4e8b3fd2-1bfc-4131-a1a8-1d448e0b38f3.gif\">\n",
       "            <dl>\n",
       "                <dt>Score</dt><dd>-3075</dd>\n",
       "                <dt>Breakdown</dt><dd>{'size': -3408, 'grow': 0, 'dist': 153, 'age': 27, 'canyon': 0, 'discon': 0, 'segment': 153}</dd>\n",
       "                <dt>Size</dt><dd>3</dd>\n",
       "                <dt>Age</dt><dd>27</dd>\n",
       "            </dl>\n",
       "            "
      ],
      "text/plain": [
       "<snake.Report at 0x178f7a714f0>"
      ]
     },
     "execution_count": 6,
     "metadata": {},
     "output_type": "execute_result"
    }
   ],
   "source": [
    "search.report()"
   ]
  }
 ],
 "metadata": {
  "kernelspec": {
   "display_name": "Python 3.8",
   "language": "python",
   "name": "py38"
  },
  "language_info": {
   "codemirror_mode": {
    "name": "ipython",
    "version": 3
   },
   "file_extension": ".py",
   "mimetype": "text/x-python",
   "name": "python",
   "nbconvert_exporter": "python",
   "pygments_lexer": "ipython3",
   "version": "3.8.0"
  }
 },
 "nbformat": 4,
 "nbformat_minor": 2
}
